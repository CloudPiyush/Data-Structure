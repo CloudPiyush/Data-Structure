{
 "cells": [
  {
   "cell_type": "code",
   "execution_count": 1,
   "metadata": {},
   "outputs": [],
   "source": [
    "class HashTable:\n",
    "\n",
    "    def __init__(self):\n",
    "        self.Max = 10\n",
    "        self.Arr = [[] for i in range(self.Max)]\n",
    "\n",
    "    def Get_Hash(self,key):\n",
    "        hash = 0\n",
    "        for i in key:\n",
    "            hash += ord(i)\n",
    "        return hash % self.Max\n",
    "    \n",
    "    def __getitem__(self,key):\n",
    "        Arr_Index = self.Get_Hash(key)\n",
    "        for element in self.Arr[Arr_Index]:\n",
    "            if element[0] == key:\n",
    "                return element[1]\n",
    "    \n",
    "    def __setitem__(self,key,value):\n",
    "        H = self.Get_Hash(key)\n",
    "        found = False\n",
    "        for Id,element in enumerate(self.Arr[H]):\n",
    "            if element[0] == key and len(element) == 2 :\n",
    "                self.Arr[H][Id] = (key,value)\n",
    "                found = True\n",
    "\n",
    "        if not found:\n",
    "            self.Arr[H].append((key,value))\n",
    "    \n",
    "    def __delitem__(self,key):\n",
    "        arr_index = self.Get_Hash(key)\n",
    "        for Id,element in enumerate(self.Arr[arr_index]):\n",
    "            if element[0] == key:\n",
    "                print(\"del\",Id)\n",
    "                del self.Arr[arr_index][Id]"
   ]
  },
  {
   "cell_type": "code",
   "execution_count": 2,
   "metadata": {},
   "outputs": [],
   "source": [
    "Obj = HashTable()\n",
    "Obj[\"march 6\"]  = 280\n",
    "Obj[\"march 7\"]  = 410\n",
    "Obj[\"march 8\"]  = 320 \n",
    "Obj[\"march 10\"] =  76573"
   ]
  },
  {
   "cell_type": "code",
   "execution_count": 4,
   "metadata": {},
   "outputs": [
    {
     "data": {
      "text/plain": [
       "410"
      ]
     },
     "execution_count": 4,
     "metadata": {},
     "output_type": "execute_result"
    }
   ],
   "source": [
    "Obj[\"march 7\"]"
   ]
  },
  {
   "cell_type": "code",
   "execution_count": 3,
   "metadata": {},
   "outputs": [
    {
     "data": {
      "text/plain": [
       "[[('march 7', 410)],\n",
       " [('march 8', 320)],\n",
       " [('march 10', 76573)],\n",
       " [],\n",
       " [],\n",
       " [],\n",
       " [],\n",
       " [],\n",
       " [],\n",
       " [('march 6', 280)]]"
      ]
     },
     "execution_count": 3,
     "metadata": {},
     "output_type": "execute_result"
    }
   ],
   "source": [
    "Obj.Arr"
   ]
  },
  {
   "cell_type": "code",
   "execution_count": 56,
   "metadata": {},
   "outputs": [
    {
     "name": "stdout",
     "output_type": "stream",
     "text": [
      "del 0\n"
     ]
    }
   ],
   "source": [
    "del Obj['march 7']"
   ]
  },
  {
   "cell_type": "code",
   "execution_count": 57,
   "metadata": {},
   "outputs": [
    {
     "data": {
      "text/plain": [
       "[[],\n",
       " [('march 8', 320)],\n",
       " [('march 10', 76573)],\n",
       " [],\n",
       " [],\n",
       " [],\n",
       " [],\n",
       " [],\n",
       " [],\n",
       " [('march 6', 280)]]"
      ]
     },
     "execution_count": 57,
     "metadata": {},
     "output_type": "execute_result"
    }
   ],
   "source": [
    "Obj.Arr"
   ]
  }
 ],
 "metadata": {
  "kernelspec": {
   "display_name": "Python 3",
   "language": "python",
   "name": "python3"
  },
  "language_info": {
   "codemirror_mode": {
    "name": "ipython",
    "version": 3
   },
   "file_extension": ".py",
   "mimetype": "text/x-python",
   "name": "python",
   "nbconvert_exporter": "python",
   "pygments_lexer": "ipython3",
   "version": "3.11.8"
  }
 },
 "nbformat": 4,
 "nbformat_minor": 2
}
