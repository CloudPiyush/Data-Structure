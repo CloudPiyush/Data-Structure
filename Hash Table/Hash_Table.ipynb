{
 "cells": [
  {
   "cell_type": "code",
   "execution_count": 4,
   "metadata": {},
   "outputs": [
    {
     "name": "stdout",
     "output_type": "stream",
     "text": [
      "march 6,310\n",
      "\n",
      "march 7,340\n",
      "\n",
      "march 8,380\n",
      "\n",
      "march 9,302\n",
      "\n",
      "march 10,297\n",
      "\n",
      "march 11,323\n"
     ]
    }
   ],
   "source": [
    "Stock_price = []\n",
    "\n",
    "with open('D:/Python/File Handling/stock_prices.csv') as A:\n",
    "    for Data in A:\n",
    "        print(Data)\n",
    "        Tokens = Data.split(',')\n",
    "        Day = Tokens[0]\n",
    "        Price = float(Tokens[1])\n",
    "        Stock_price.append([Day,Price])"
   ]
  },
  {
   "cell_type": "code",
   "execution_count": 5,
   "metadata": {},
   "outputs": [
    {
     "data": {
      "text/plain": [
       "[['march 6', 310.0],\n",
       " ['march 7', 340.0],\n",
       " ['march 8', 380.0],\n",
       " ['march 9', 302.0],\n",
       " ['march 10', 297.0],\n",
       " ['march 11', 323.0]]"
      ]
     },
     "execution_count": 5,
     "metadata": {},
     "output_type": "execute_result"
    }
   ],
   "source": [
    "Stock_price"
   ]
  },
  {
   "cell_type": "code",
   "execution_count": 9,
   "metadata": {},
   "outputs": [
    {
     "data": {
      "text/plain": [
       "['march 7', 340.0]"
      ]
     },
     "execution_count": 9,
     "metadata": {},
     "output_type": "execute_result"
    }
   ],
   "source": [
    "Stock_price[1]"
   ]
  },
  {
   "cell_type": "code",
   "execution_count": 14,
   "metadata": {},
   "outputs": [
    {
     "name": "stdout",
     "output_type": "stream",
     "text": [
      "302.0\n"
     ]
    }
   ],
   "source": [
    "'''Find The Price of march 9'''\n",
    "for data in Stock_price:\n",
    "    if data[0]== 'march 9':\n",
    "        print(data[1])\n",
    "\n",
    "'''The Complexity of serach using list is O(n)'''"
   ]
  },
  {
   "cell_type": "code",
   "execution_count": 15,
   "metadata": {},
   "outputs": [
    {
     "name": "stdout",
     "output_type": "stream",
     "text": [
      "march 6,310\n",
      "\n",
      "march 7,340\n",
      "\n",
      "march 8,380\n",
      "\n",
      "march 9,302\n",
      "\n",
      "march 10,297\n",
      "\n",
      "march 11,323\n"
     ]
    }
   ],
   "source": [
    "'''Process Hash Map with Dictionary.'''\n",
    "\n",
    "Stock_price = {}\n",
    "\n",
    "with open('D:/Python/File Handling/stock_prices.csv') as A:\n",
    "    for Data in A:\n",
    "        print(Data)\n",
    "        Tokens = Data.split(',')\n",
    "        Day = Tokens[0]\n",
    "        Price = float(Tokens[1])\n",
    "        Stock_price[Day] = Price"
   ]
  },
  {
   "cell_type": "code",
   "execution_count": 16,
   "metadata": {},
   "outputs": [
    {
     "data": {
      "text/plain": [
       "{'march 6': 310.0,\n",
       " 'march 7': 340.0,\n",
       " 'march 8': 380.0,\n",
       " 'march 9': 302.0,\n",
       " 'march 10': 297.0,\n",
       " 'march 11': 323.0}"
      ]
     },
     "execution_count": 16,
     "metadata": {},
     "output_type": "execute_result"
    }
   ],
   "source": [
    "Stock_price"
   ]
  },
  {
   "cell_type": "code",
   "execution_count": 17,
   "metadata": {},
   "outputs": [
    {
     "data": {
      "text/plain": [
       "302.0"
      ]
     },
     "execution_count": 17,
     "metadata": {},
     "output_type": "execute_result"
    }
   ],
   "source": [
    "'''Find The Price of march 9'''\n",
    "\n",
    "Stock_price['march 9']\n",
    "\n",
    "'''The Complexity of serach using list is O(1)'''"
   ]
  },
  {
   "cell_type": "code",
   "execution_count": 22,
   "metadata": {},
   "outputs": [],
   "source": [
    "'''Implement Hash Table'''\n",
    "\n",
    "def Get_Hash(key):\n",
    "    hash = 0\n",
    "    for char in key:\n",
    "        hash = hash + ord(char)\n",
    "    return hash % 100 "
   ]
  },
  {
   "cell_type": "code",
   "execution_count": 39,
   "metadata": {},
   "outputs": [
    {
     "data": {
      "text/plain": [
       "9"
      ]
     },
     "execution_count": 39,
     "metadata": {},
     "output_type": "execute_result"
    }
   ],
   "source": [
    "Get_Hash('march 6')"
   ]
  },
  {
   "cell_type": "code",
   "execution_count": 41,
   "metadata": {},
   "outputs": [],
   "source": [
    "class HashTable:\n",
    "\n",
    "    def __init__(self):\n",
    "        self.Max = 100\n",
    "        self.Arr = [None for i in range(self.Max)]\n",
    "\n",
    "    def Get_HashTable(self,Val):\n",
    "        Hash = 0\n",
    "        for char in Val:\n",
    "            Hash = Hash + ord(char)\n",
    "        return Hash % self.Max\n",
    "    \n",
    "    def __getitem__(self,Index):\n",
    "        Hash = self.Get_HashTable(Index)\n",
    "        return self.Arr[Hash]\n",
    "    \n",
    "    def __setitem__(self,Key,Val):\n",
    "        Hash = self.Get_HashTable(Key)\n",
    "        self.Arr[Hash] = Val\n",
    "\n",
    "    def __delitem__(self,key):\n",
    "        Hash = self.Get_HashTable(key)\n",
    "        self.Arr[Hash] = None"
   ]
  },
  {
   "cell_type": "code",
   "execution_count": 47,
   "metadata": {},
   "outputs": [],
   "source": [
    "Obj = HashTable()\n",
    "Obj['march 7'] = 210\n",
    "Obj['march 6'] = 211"
   ]
  },
  {
   "cell_type": "code",
   "execution_count": 48,
   "metadata": {},
   "outputs": [
    {
     "data": {
      "text/plain": [
       "[None,\n",
       " None,\n",
       " None,\n",
       " None,\n",
       " None,\n",
       " None,\n",
       " None,\n",
       " None,\n",
       " None,\n",
       " 211,\n",
       " 210,\n",
       " None,\n",
       " None,\n",
       " None,\n",
       " None,\n",
       " None,\n",
       " None,\n",
       " None,\n",
       " None,\n",
       " None,\n",
       " None,\n",
       " None,\n",
       " None,\n",
       " None,\n",
       " None,\n",
       " None,\n",
       " None,\n",
       " None,\n",
       " None,\n",
       " None,\n",
       " None,\n",
       " None,\n",
       " None,\n",
       " None,\n",
       " None,\n",
       " None,\n",
       " None,\n",
       " None,\n",
       " None,\n",
       " None,\n",
       " None,\n",
       " None,\n",
       " None,\n",
       " None,\n",
       " None,\n",
       " None,\n",
       " None,\n",
       " None,\n",
       " None,\n",
       " None,\n",
       " None,\n",
       " None,\n",
       " None,\n",
       " None,\n",
       " None,\n",
       " None,\n",
       " None,\n",
       " None,\n",
       " None,\n",
       " None,\n",
       " None,\n",
       " None,\n",
       " None,\n",
       " None,\n",
       " None,\n",
       " None,\n",
       " None,\n",
       " None,\n",
       " None,\n",
       " None,\n",
       " None,\n",
       " None,\n",
       " None,\n",
       " None,\n",
       " None,\n",
       " None,\n",
       " None,\n",
       " None,\n",
       " None,\n",
       " None,\n",
       " None,\n",
       " None,\n",
       " None,\n",
       " None,\n",
       " None,\n",
       " None,\n",
       " None,\n",
       " None,\n",
       " None,\n",
       " None,\n",
       " None,\n",
       " None,\n",
       " None,\n",
       " None,\n",
       " None,\n",
       " None,\n",
       " None,\n",
       " None,\n",
       " None,\n",
       " None]"
      ]
     },
     "execution_count": 48,
     "metadata": {},
     "output_type": "execute_result"
    }
   ],
   "source": [
    "Obj.Arr"
   ]
  }
 ],
 "metadata": {
  "kernelspec": {
   "display_name": "Python 3",
   "language": "python",
   "name": "python3"
  },
  "language_info": {
   "codemirror_mode": {
    "name": "ipython",
    "version": 3
   },
   "file_extension": ".py",
   "mimetype": "text/x-python",
   "name": "python",
   "nbconvert_exporter": "python",
   "pygments_lexer": "ipython3",
   "version": "3.11.8"
  }
 },
 "nbformat": 4,
 "nbformat_minor": 2
}
