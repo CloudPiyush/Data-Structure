{
 "cells": [
  {
   "cell_type": "code",
   "execution_count": 75,
   "metadata": {},
   "outputs": [],
   "source": [
    "from collections import deque\n",
    "import time\n",
    "import threading\n",
    "\n",
    "class Queue:\n",
    "    def __init__(self) -> None:\n",
    "        self.Buffer = deque()\n",
    "\n",
    "    def Feed_Data(self,Val):\n",
    "        self.Buffer.appendleft(Val)\n",
    "\n",
    "    def Pop(self):\n",
    "        if len(self.Buffer) == 0:\n",
    "            raise Exception('\\nOps...!The Data is in Queue is Over.')\n",
    "        return self.Buffer.pop()\n",
    "    \n",
    "    def Is_Empty(self):\n",
    "        return len(self.Buffer) == 0\n",
    "    \n",
    "    def Size(self):\n",
    "        return len(self.Buffer)\n",
    "    \n",
    "    def Show(self):\n",
    "        return self.Buffer\n",
    "\n",
    "Object = Queue()\n",
    "\n",
    "def Place_order(Orders):\n",
    "\n",
    "    for Order in Orders:\n",
    "        print('\\nPlacing Order for :',Order)\n",
    "        Object.Feed_Data(Order)\n",
    "        time.sleep(0.5)\n",
    "\n",
    "def Serve_order():\n",
    "    time.sleep(1)\n",
    "    while True:\n",
    "        Order = Object.Pop()\n",
    "        print('\\nNow Serving the Order :',Order)\n",
    "        time.sleep(2)\n",
    "\n"
   ]
  },
  {
   "cell_type": "code",
   "execution_count": 77,
   "metadata": {},
   "outputs": [
    {
     "name": "stdout",
     "output_type": "stream",
     "text": [
      "\n",
      "Placing Order for : Chicken\n"
     ]
    },
    {
     "name": "stdout",
     "output_type": "stream",
     "text": [
      "\n",
      "Placing Order for : Mutton\n",
      "\n",
      "Placing Order for : Puran-Poli\n",
      "\n",
      "Now Serving the Order : Chicken\n",
      "\n",
      "Placing Order for : Paratha\n",
      "\n",
      "Placing Order for : Pizza\n",
      "\n",
      "Now Serving the Order : Mutton\n",
      "\n",
      "Now Serving the Order : Puran-Poli\n",
      "\n",
      "Now Serving the Order : Paratha\n",
      "\n",
      "Now Serving the Order : Pizza\n"
     ]
    },
    {
     "name": "stderr",
     "output_type": "stream",
     "text": [
      "Exception in thread Thread-40 (Serve_order):\n",
      "Traceback (most recent call last):\n",
      "  File \"C:\\Program Files\\WindowsApps\\PythonSoftwareFoundation.Python.3.11_3.11.2288.0_x64__qbz5n2kfra8p0\\Lib\\threading.py\", line 1045, in _bootstrap_inner\n",
      "    self.run()\n",
      "  File \"C:\\Program Files\\WindowsApps\\PythonSoftwareFoundation.Python.3.11_3.11.2288.0_x64__qbz5n2kfra8p0\\Lib\\threading.py\", line 982, in run\n",
      "    self._target(*self._args, **self._kwargs)\n",
      "  File \"C:\\Users\\Shree\\AppData\\Local\\Temp\\ipykernel_3352\\170984104.py\", line 38, in Serve_order\n",
      "  File \"C:\\Users\\Shree\\AppData\\Local\\Temp\\ipykernel_3352\\170984104.py\", line 14, in Pop\n",
      "Exception: \n",
      "Ops...!The Data is in Queue is Over.\n"
     ]
    }
   ],
   "source": [
    "if __name__ == \"__main__\":\n",
    "    Order = ['Chicken','Mutton','Puran-Poli','Paratha','Pizza']\n",
    "    T1 = threading.Thread(target=Place_order,args=(Order,))\n",
    "    T2 = threading.Thread(target=Serve_order,args=())\n",
    "\n",
    "    T1.start()\n",
    "    T2.start()"
   ]
  },
  {
   "cell_type": "code",
   "execution_count": 57,
   "metadata": {},
   "outputs": [
    {
     "name": "stdout",
     "output_type": "stream",
     "text": [
      "deque([])\n"
     ]
    }
   ],
   "source": [
    "print(Object.Show())"
   ]
  }
 ],
 "metadata": {
  "kernelspec": {
   "display_name": "Python 3",
   "language": "python",
   "name": "python3"
  },
  "language_info": {
   "codemirror_mode": {
    "name": "ipython",
    "version": 3
   },
   "file_extension": ".py",
   "mimetype": "text/x-python",
   "name": "python",
   "nbconvert_exporter": "python",
   "pygments_lexer": "ipython3",
   "version": "3.11.8"
  }
 },
 "nbformat": 4,
 "nbformat_minor": 2
}
