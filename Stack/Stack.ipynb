{
 "cells": [
  {
   "cell_type": "code",
   "execution_count": 26,
   "metadata": {},
   "outputs": [],
   "source": [
    "\"\"\"Stack as Using A List...!\"\"\"\n",
    "\n",
    "S = []\n",
    "S.append('Piyush  Ajit    Patil')\n",
    "S.append('Ruturaj Ajit    Patil')\n",
    "S.append('Ajit Baburao    Patil')\n",
    "S.append('Baburao Shivram Patil')\n",
    "S.append('Shivram Dhaku   Patil')"
   ]
  },
  {
   "cell_type": "code",
   "execution_count": 27,
   "metadata": {},
   "outputs": [
    {
     "data": {
      "text/plain": [
       "'Shivram Dhaku   Patil'"
      ]
     },
     "execution_count": 27,
     "metadata": {},
     "output_type": "execute_result"
    }
   ],
   "source": [
    "S.pop()"
   ]
  },
  {
   "cell_type": "code",
   "execution_count": 28,
   "metadata": {},
   "outputs": [
    {
     "data": {
      "text/plain": [
       "['Piyush  Ajit    Patil',\n",
       " 'Ruturaj Ajit    Patil',\n",
       " 'Ajit Baburao    Patil',\n",
       " 'Baburao Shivram Patil']"
      ]
     },
     "execution_count": 28,
     "metadata": {},
     "output_type": "execute_result"
    }
   ],
   "source": [
    "S"
   ]
  },
  {
   "cell_type": "code",
   "execution_count": 32,
   "metadata": {},
   "outputs": [
    {
     "data": {
      "text/plain": [
       "'Baburao Shivram Patil'"
      ]
     },
     "execution_count": 32,
     "metadata": {},
     "output_type": "execute_result"
    }
   ],
   "source": [
    "S[-1]"
   ]
  },
  {
   "cell_type": "code",
   "execution_count": 33,
   "metadata": {},
   "outputs": [
    {
     "data": {
      "text/plain": [
       "['Piyush  Ajit    Patil',\n",
       " 'Ruturaj Ajit    Patil',\n",
       " 'Ajit Baburao    Patil',\n",
       " 'Baburao Shivram Patil']"
      ]
     },
     "execution_count": 33,
     "metadata": {},
     "output_type": "execute_result"
    }
   ],
   "source": [
    "S"
   ]
  },
  {
   "cell_type": "code",
   "execution_count": 42,
   "metadata": {},
   "outputs": [],
   "source": [
    "\"\"\"Impliment Stack Using the Dque\"\"\"\n",
    "\n",
    "from collections import deque\n",
    "\n",
    "Stack = deque()\n",
    "Stack.append('Piyush Ajit Patil')\n",
    "Stack.append('Ruturaj Ajit Patil')\n",
    "Stack.append('Ajit Baburao Patil')\n",
    "Stack.append('baburao Shivram Patil')\n",
    "Stack.append('Shivram Shaku   Patil')"
   ]
  },
  {
   "cell_type": "code",
   "execution_count": 43,
   "metadata": {},
   "outputs": [
    {
     "data": {
      "text/plain": [
       "deque(['Piyush Ajit Patil',\n",
       "       'Ruturaj Ajit Patil',\n",
       "       'Ajit Baburao Patil',\n",
       "       'baburao Shivram Patil',\n",
       "       'Shivram Shaku   Patil'])"
      ]
     },
     "execution_count": 43,
     "metadata": {},
     "output_type": "execute_result"
    }
   ],
   "source": [
    "Stack"
   ]
  },
  {
   "cell_type": "code",
   "execution_count": 44,
   "metadata": {},
   "outputs": [
    {
     "data": {
      "text/plain": [
       "'Shivram Shaku   Patil'"
      ]
     },
     "execution_count": 44,
     "metadata": {},
     "output_type": "execute_result"
    }
   ],
   "source": [
    "Stack.pop()"
   ]
  },
  {
   "cell_type": "code",
   "execution_count": 45,
   "metadata": {},
   "outputs": [
    {
     "data": {
      "text/plain": [
       "deque(['Piyush Ajit Patil',\n",
       "       'Ruturaj Ajit Patil',\n",
       "       'Ajit Baburao Patil',\n",
       "       'baburao Shivram Patil'])"
      ]
     },
     "execution_count": 45,
     "metadata": {},
     "output_type": "execute_result"
    }
   ],
   "source": [
    "Stack"
   ]
  },
  {
   "cell_type": "code",
   "execution_count": 1,
   "metadata": {},
   "outputs": [],
   "source": [
    "\"\"\"Impliment Stack Using Class with the Deque\"\"\"\n",
    "from collections import deque\n",
    "class stack:\n",
    "\n",
    "    def __init__(self) -> None:\n",
    "        self.container = deque()\n",
    "\n",
    "    def Push(self,val):\n",
    "        self.container.append(val)\n",
    "\n",
    "    def Pop(self):\n",
    "        return self.container.pop()\n",
    "    \n",
    "    def Peek(self):\n",
    "        print(self.container[-1])\n",
    "    \n",
    "    def Is_Empty(self):\n",
    "        print(len(self.container) ==0)\n",
    "    \n",
    "    def Size(self):\n",
    "        return len(self.container)\n",
    "    \n",
    "    def Show(self):\n",
    "        return (self.container)"
   ]
  },
  {
   "cell_type": "code",
   "execution_count": 7,
   "metadata": {},
   "outputs": [
    {
     "name": "stdout",
     "output_type": "stream",
     "text": [
      "False\n",
      "76\n",
      "The size of Stack is : 5\n",
      "deque([15, 22, 34, 'King Piyush', 76])\n",
      "The Size of Stack After the Pop is : 4\n",
      "The Stack is After the Pop is : deque([15, 22, 34, 'King Piyush'])\n"
     ]
    }
   ],
   "source": [
    "if __name__ == \"__main__\":\n",
    "    Obj = stack()\n",
    "    Obj.Push(15)\n",
    "    Obj.Push(22)\n",
    "    Obj.Push(34)\n",
    "    Obj.Push(\"King Piyush\")\n",
    "    Obj.Push(76)\n",
    "    Obj.Is_Empty()\n",
    "    Obj.Peek()\n",
    "    print(\"The size of Stack is :\",Obj.Size())\n",
    "    print(Obj.Show())\n",
    "    Obj.Pop()\n",
    "    print(\"The Size of Stack After the Pop is :\",Obj.Size())\n",
    "    print(\"The Stack is After the Pop is :\",Obj.Show())"
   ]
  },
  {
   "cell_type": "code",
   "execution_count": 9,
   "metadata": {},
   "outputs": [
    {
     "data": {
      "text/plain": [
       "'King Piyush'"
      ]
     },
     "execution_count": 9,
     "metadata": {},
     "output_type": "execute_result"
    }
   ],
   "source": [
    "Obj.Pop()"
   ]
  }
 ],
 "metadata": {
  "kernelspec": {
   "display_name": "Python 3",
   "language": "python",
   "name": "python3"
  },
  "language_info": {
   "codemirror_mode": {
    "name": "ipython",
    "version": 3
   },
   "file_extension": ".py",
   "mimetype": "text/x-python",
   "name": "python",
   "nbconvert_exporter": "python",
   "pygments_lexer": "ipython3",
   "version": "3.11.8"
  }
 },
 "nbformat": 4,
 "nbformat_minor": 2
}
